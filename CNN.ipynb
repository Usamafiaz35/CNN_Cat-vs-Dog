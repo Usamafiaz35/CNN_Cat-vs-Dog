{
  "nbformat": 4,
  "nbformat_minor": 0,
  "metadata": {
    "colab": {
      "provenance": [],
      "gpuType": "T4"
    },
    "kernelspec": {
      "name": "python3",
      "display_name": "Python 3"
    },
    "language_info": {
      "name": "python"
    },
    "accelerator": "GPU"
  },
  "cells": [
    {
      "cell_type": "code",
      "execution_count": 13,
      "metadata": {
        "id": "ZDjY0qq2Xwnu"
      },
      "outputs": [],
      "source": [
        "import tensorflow"
      ]
    },
    {
      "cell_type": "code",
      "source": [
        "from keras.layers import Dense, Conv2D , MaxPooling2D , Flatten"
      ],
      "metadata": {
        "id": "9s3yyTKLXxWJ"
      },
      "execution_count": 14,
      "outputs": []
    },
    {
      "cell_type": "code",
      "source": [
        "from keras.models import Sequential"
      ],
      "metadata": {
        "id": "nqrvKmOjXxXg"
      },
      "execution_count": 15,
      "outputs": []
    },
    {
      "cell_type": "code",
      "source": [
        "cnn = Sequential()"
      ],
      "metadata": {
        "id": "FWMMz9_jXxa_"
      },
      "execution_count": 16,
      "outputs": []
    },
    {
      "cell_type": "code",
      "source": [
        "cnn.add(Conv2D(32,(3,3),input_shape=(64,64,3),activation='relu'))\n",
        "cnn.add(MaxPooling2D(pool_size=(2,2)))\n",
        "cnn.add(Conv2D(16,(3,3),activation='relu'))\n",
        "cnn.add(MaxPooling2D(pool_size=(2,2)))\n",
        "cnn.add(Flatten())"
      ],
      "metadata": {
        "id": "WDn7hb9ZXxcc"
      },
      "execution_count": 17,
      "outputs": []
    },
    {
      "cell_type": "code",
      "source": [
        "from keras.regularizers import l2\n",
        "from keras.layers import Dropout\n",
        "from keras.layers import BatchNormalization"
      ],
      "metadata": {
        "id": "TQZCwfa7EhNp"
      },
      "execution_count": 18,
      "outputs": []
    },
    {
      "cell_type": "code",
      "source": [
        "cnn.add(Dense(64,activation='relu', kernel_regularizer=l2(l2=0.01)))\n",
        "cnn.add(Dense(32,activation='relu', kernel_regularizer=l2(l2=0.01)))\n",
        "cnn.add(Dense(16,activation='relu', kernel_regularizer=l2(l2=0.01)))\n",
        "cnn.add(Dense(8,activation='relu', kernel_regularizer=l2(l2=0.01)))\n",
        "cnn.add(Dense(4,activation='relu', kernel_regularizer=l2(l2=0.01)))\n",
        "cnn.add(Dense(1,activation='sigmoid'))"
      ],
      "metadata": {
        "id": "X0C2h53uXxf7"
      },
      "execution_count": 28,
      "outputs": []
    },
    {
      "cell_type": "code",
      "source": [
        "cnn.compile(optimizer='adam',loss='binary_crossentropy' , metrics=['accuracy'])"
      ],
      "metadata": {
        "id": "AlOJ3wtnXxhX"
      },
      "execution_count": 20,
      "outputs": []
    },
    {
      "cell_type": "code",
      "source": [
        "from tensorflow.keras.preprocessing.image import ImageDataGenerator\n"
      ],
      "metadata": {
        "id": "afKFkUQ9fq4X"
      },
      "execution_count": 21,
      "outputs": []
    },
    {
      "cell_type": "code",
      "source": [
        "train_datagen = ImageDataGenerator(\n",
        "    rescale=1./255,\n",
        "    shear_range=0.2,\n",
        "    zoom_range=0.2,\n",
        "    horizontal_flip=True)"
      ],
      "metadata": {
        "id": "oU2MQmsiXxmh"
      },
      "execution_count": 22,
      "outputs": []
    },
    {
      "cell_type": "code",
      "source": [
        "test_datagen = ImageDataGenerator(rescale=1./255)"
      ],
      "metadata": {
        "id": "8HouruDEXxqk"
      },
      "execution_count": 23,
      "outputs": []
    },
    {
      "cell_type": "code",
      "source": [
        "#orginal way to load the training data\n",
        "train_generator = train_datagen.flow_from_directory(\n",
        "    \"/content/drive/MyDrive/Cnn data set/train\",\n",
        "    target_size=(64, 64),\n",
        "    batch_size=32,\n",
        "    class_mode='binary')"
      ],
      "metadata": {
        "colab": {
          "base_uri": "https://localhost:8080/"
        },
        "id": "t5hcDqyhlVIV",
        "outputId": "89a5a11c-41db-4e46-ff80-5994338c77ac"
      },
      "execution_count": 24,
      "outputs": [
        {
          "output_type": "stream",
          "name": "stdout",
          "text": [
            "Found 557 images belonging to 2 classes.\n"
          ]
        }
      ]
    },
    {
      "cell_type": "code",
      "source": [
        "#orignal way to load the testing data\n",
        "test_generator = test_datagen.flow_from_directory(\n",
        "    \"/content/drive/MyDrive/Cnn data set/test\",\n",
        "    target_size=(64, 64),\n",
        "    batch_size=32,\n",
        "    class_mode='binary')"
      ],
      "metadata": {
        "id": "suwozxJPXxyc",
        "colab": {
          "base_uri": "https://localhost:8080/"
        },
        "outputId": "3db37cb1-aa33-4272-d4c5-5ec0e00d8ea7"
      },
      "execution_count": 25,
      "outputs": [
        {
          "output_type": "stream",
          "name": "stdout",
          "text": [
            "Found 140 images belonging to 2 classes.\n"
          ]
        }
      ]
    },
    {
      "cell_type": "code",
      "source": [
        "from keras.callbacks import EarlyStopping"
      ],
      "metadata": {
        "id": "-mWBxeDGBUc9"
      },
      "execution_count": 26,
      "outputs": []
    },
    {
      "cell_type": "code",
      "source": [
        "cnn.fit(train_generator,steps_per_epoch=250,epochs=50,validation_data=test_generator,callbacks=EarlyStopping(patience=10))"
      ],
      "metadata": {
        "colab": {
          "base_uri": "https://localhost:8080/"
        },
        "id": "IJR1hZQCp82k",
        "outputId": "7376832f-ee22-4470-e679-8db653eaaf21"
      },
      "execution_count": 29,
      "outputs": [
        {
          "output_type": "stream",
          "name": "stdout",
          "text": [
            "Epoch 1/50\n",
            "\u001b[1m 18/250\u001b[0m \u001b[32m━\u001b[0m\u001b[37m━━━━━━━━━━━━━━━━━━━\u001b[0m \u001b[1m9:52\u001b[0m 3s/step - accuracy: 0.4547 - loss: 2.2821 "
          ]
        },
        {
          "output_type": "stream",
          "name": "stderr",
          "text": [
            "/usr/lib/python3.10/contextlib.py:153: UserWarning: Your input ran out of data; interrupting training. Make sure that your dataset or generator can generate at least `steps_per_epoch * epochs` batches. You may need to use the `.repeat()` function when building your dataset.\n",
            "  self.gen.throw(typ, value, traceback)\n"
          ]
        },
        {
          "output_type": "stream",
          "name": "stdout",
          "text": [
            "\b\b\b\b\b\b\b\b\b\b\b\b\b\b\b\b\b\b\b\b\b\b\b\b\b\b\b\b\b\b\b\b\b\b\b\b\b\b\b\b\b\b\b\b\b\b\b\b\b\b\b\b\b\b\b\b\b\b\b\b\b\b\b\b\b\b\b\b\b\b\b\b\b\b\b\r\u001b[1m250/250\u001b[0m \u001b[32m━━━━━━━━━━━━━━━━━━━━\u001b[0m\u001b[37m\u001b[0m \u001b[1m187s\u001b[0m 596ms/step - accuracy: 0.4842 - loss: 2.0806 - val_accuracy: 0.5000 - val_loss: 2.5005\n",
            "Epoch 2/50\n",
            "\u001b[1m250/250\u001b[0m \u001b[32m━━━━━━━━━━━━━━━━━━━━\u001b[0m\u001b[37m\u001b[0m \u001b[1m11s\u001b[0m 33ms/step - accuracy: 0.4983 - loss: 1.4937 - val_accuracy: 0.5000 - val_loss: 2.1787\n",
            "Epoch 3/50\n",
            "\u001b[1m250/250\u001b[0m \u001b[32m━━━━━━━━━━━━━━━━━━━━\u001b[0m\u001b[37m\u001b[0m \u001b[1m9s\u001b[0m 24ms/step - accuracy: 0.5075 - loss: 1.2709 - val_accuracy: 0.5000 - val_loss: 2.0392\n",
            "Epoch 4/50\n",
            "\u001b[1m250/250\u001b[0m \u001b[32m━━━━━━━━━━━━━━━━━━━━\u001b[0m\u001b[37m\u001b[0m \u001b[1m10s\u001b[0m 28ms/step - accuracy: 0.4969 - loss: 1.1574 - val_accuracy: 0.5000 - val_loss: 1.9465\n",
            "Epoch 5/50\n",
            "\u001b[1m250/250\u001b[0m \u001b[32m━━━━━━━━━━━━━━━━━━━━\u001b[0m\u001b[37m\u001b[0m \u001b[1m12s\u001b[0m 39ms/step - accuracy: 0.4997 - loss: 1.0740 - val_accuracy: 0.5000 - val_loss: 1.8743\n",
            "Epoch 6/50\n",
            "\u001b[1m250/250\u001b[0m \u001b[32m━━━━━━━━━━━━━━━━━━━━\u001b[0m\u001b[37m\u001b[0m \u001b[1m9s\u001b[0m 25ms/step - accuracy: 0.5016 - loss: 1.0107 - val_accuracy: 0.5000 - val_loss: 1.8164\n",
            "Epoch 7/50\n",
            "\u001b[1m250/250\u001b[0m \u001b[32m━━━━━━━━━━━━━━━━━━━━\u001b[0m\u001b[37m\u001b[0m \u001b[1m11s\u001b[0m 27ms/step - accuracy: 0.5009 - loss: 0.9574 - val_accuracy: 0.5000 - val_loss: 1.7691\n",
            "Epoch 8/50\n",
            "\u001b[1m250/250\u001b[0m \u001b[32m━━━━━━━━━━━━━━━━━━━━\u001b[0m\u001b[37m\u001b[0m \u001b[1m11s\u001b[0m 32ms/step - accuracy: 0.4989 - loss: 0.9136 - val_accuracy: 0.5000 - val_loss: 1.7302\n",
            "Epoch 9/50\n",
            "\u001b[1m250/250\u001b[0m \u001b[32m━━━━━━━━━━━━━━━━━━━━\u001b[0m\u001b[37m\u001b[0m \u001b[1m9s\u001b[0m 25ms/step - accuracy: 0.5010 - loss: 0.8783 - val_accuracy: 0.5000 - val_loss: 1.6979\n",
            "Epoch 10/50\n",
            "\u001b[1m250/250\u001b[0m \u001b[32m━━━━━━━━━━━━━━━━━━━━\u001b[0m\u001b[37m\u001b[0m \u001b[1m10s\u001b[0m 25ms/step - accuracy: 0.5008 - loss: 0.8481 - val_accuracy: 0.5000 - val_loss: 1.6712\n",
            "Epoch 11/50\n",
            "\u001b[1m250/250\u001b[0m \u001b[32m━━━━━━━━━━━━━━━━━━━━\u001b[0m\u001b[37m\u001b[0m \u001b[1m11s\u001b[0m 31ms/step - accuracy: 0.5017 - loss: 0.8240 - val_accuracy: 0.5000 - val_loss: 1.6489\n",
            "Epoch 12/50\n",
            "\u001b[1m250/250\u001b[0m \u001b[32m━━━━━━━━━━━━━━━━━━━━\u001b[0m\u001b[37m\u001b[0m \u001b[1m10s\u001b[0m 26ms/step - accuracy: 0.5024 - loss: 0.8033 - val_accuracy: 0.5000 - val_loss: 1.6303\n",
            "Epoch 13/50\n",
            "\u001b[1m250/250\u001b[0m \u001b[32m━━━━━━━━━━━━━━━━━━━━\u001b[0m\u001b[37m\u001b[0m \u001b[1m10s\u001b[0m 25ms/step - accuracy: 0.4999 - loss: 0.7862 - val_accuracy: 0.5000 - val_loss: 1.6149\n",
            "Epoch 14/50\n",
            "\u001b[1m250/250\u001b[0m \u001b[32m━━━━━━━━━━━━━━━━━━━━\u001b[0m\u001b[37m\u001b[0m \u001b[1m11s\u001b[0m 32ms/step - accuracy: 0.4417 - loss: 0.7718 - val_accuracy: 0.5000 - val_loss: 1.6020\n",
            "Epoch 15/50\n",
            "\u001b[1m250/250\u001b[0m \u001b[32m━━━━━━━━━━━━━━━━━━━━\u001b[0m\u001b[37m\u001b[0m \u001b[1m19s\u001b[0m 26ms/step - accuracy: 0.4926 - loss: 0.7599 - val_accuracy: 0.5000 - val_loss: 1.5912\n",
            "Epoch 16/50\n",
            "\u001b[1m250/250\u001b[0m \u001b[32m━━━━━━━━━━━━━━━━━━━━\u001b[0m\u001b[37m\u001b[0m \u001b[1m10s\u001b[0m 28ms/step - accuracy: 0.5008 - loss: 0.7498 - val_accuracy: 0.5000 - val_loss: 1.5822\n",
            "Epoch 17/50\n",
            "\u001b[1m250/250\u001b[0m \u001b[32m━━━━━━━━━━━━━━━━━━━━\u001b[0m\u001b[37m\u001b[0m \u001b[1m21s\u001b[0m 32ms/step - accuracy: 0.5012 - loss: 0.7415 - val_accuracy: 0.5000 - val_loss: 1.5746\n",
            "Epoch 18/50\n",
            "\u001b[1m250/250\u001b[0m \u001b[32m━━━━━━━━━━━━━━━━━━━━\u001b[0m\u001b[37m\u001b[0m \u001b[1m20s\u001b[0m 27ms/step - accuracy: 0.5011 - loss: 0.7346 - val_accuracy: 0.5000 - val_loss: 1.5683\n",
            "Epoch 19/50\n",
            "\u001b[1m250/250\u001b[0m \u001b[32m━━━━━━━━━━━━━━━━━━━━\u001b[0m\u001b[37m\u001b[0m \u001b[1m11s\u001b[0m 32ms/step - accuracy: 0.5010 - loss: 0.7286 - val_accuracy: 0.5000 - val_loss: 1.5629\n",
            "Epoch 20/50\n",
            "\u001b[1m250/250\u001b[0m \u001b[32m━━━━━━━━━━━━━━━━━━━━\u001b[0m\u001b[37m\u001b[0m \u001b[1m20s\u001b[0m 25ms/step - accuracy: 0.5011 - loss: 0.7238 - val_accuracy: 0.5000 - val_loss: 1.5584\n",
            "Epoch 21/50\n",
            "\u001b[1m250/250\u001b[0m \u001b[32m━━━━━━━━━━━━━━━━━━━━\u001b[0m\u001b[37m\u001b[0m \u001b[1m12s\u001b[0m 36ms/step - accuracy: 0.5017 - loss: 0.7195 - val_accuracy: 0.5000 - val_loss: 1.5546\n",
            "Epoch 22/50\n",
            "\u001b[1m250/250\u001b[0m \u001b[32m━━━━━━━━━━━━━━━━━━━━\u001b[0m\u001b[37m\u001b[0m \u001b[1m18s\u001b[0m 25ms/step - accuracy: 0.5001 - loss: 0.7160 - val_accuracy: 0.5000 - val_loss: 1.5513\n",
            "Epoch 23/50\n",
            "\u001b[1m250/250\u001b[0m \u001b[32m━━━━━━━━━━━━━━━━━━━━\u001b[0m\u001b[37m\u001b[0m \u001b[1m11s\u001b[0m 28ms/step - accuracy: 0.5012 - loss: 0.7130 - val_accuracy: 0.5000 - val_loss: 1.5486\n",
            "Epoch 24/50\n",
            "\u001b[1m250/250\u001b[0m \u001b[32m━━━━━━━━━━━━━━━━━━━━\u001b[0m\u001b[37m\u001b[0m \u001b[1m11s\u001b[0m 31ms/step - accuracy: 0.4835 - loss: 0.7104 - val_accuracy: 0.5000 - val_loss: 1.5462\n",
            "Epoch 25/50\n",
            "\u001b[1m250/250\u001b[0m \u001b[32m━━━━━━━━━━━━━━━━━━━━\u001b[0m\u001b[37m\u001b[0m \u001b[1m10s\u001b[0m 27ms/step - accuracy: 0.4862 - loss: 0.7081 - val_accuracy: 0.5000 - val_loss: 1.5442\n",
            "Epoch 26/50\n",
            "\u001b[1m250/250\u001b[0m \u001b[32m━━━━━━━━━━━━━━━━━━━━\u001b[0m\u001b[37m\u001b[0m \u001b[1m10s\u001b[0m 25ms/step - accuracy: 0.4844 - loss: 0.7063 - val_accuracy: 0.5000 - val_loss: 1.5424\n",
            "Epoch 27/50\n",
            "\u001b[1m250/250\u001b[0m \u001b[32m━━━━━━━━━━━━━━━━━━━━\u001b[0m\u001b[37m\u001b[0m \u001b[1m10s\u001b[0m 30ms/step - accuracy: 0.5005 - loss: 0.7046 - val_accuracy: 0.5000 - val_loss: 1.5409\n",
            "Epoch 28/50\n",
            "\u001b[1m250/250\u001b[0m \u001b[32m━━━━━━━━━━━━━━━━━━━━\u001b[0m\u001b[37m\u001b[0m \u001b[1m19s\u001b[0m 26ms/step - accuracy: 0.5013 - loss: 0.7032 - val_accuracy: 0.5000 - val_loss: 1.5396\n",
            "Epoch 29/50\n",
            "\u001b[1m250/250\u001b[0m \u001b[32m━━━━━━━━━━━━━━━━━━━━\u001b[0m\u001b[37m\u001b[0m \u001b[1m10s\u001b[0m 26ms/step - accuracy: 0.5038 - loss: 0.7020 - val_accuracy: 0.5000 - val_loss: 1.5385\n",
            "Epoch 30/50\n",
            "\u001b[1m250/250\u001b[0m \u001b[32m━━━━━━━━━━━━━━━━━━━━\u001b[0m\u001b[37m\u001b[0m \u001b[1m11s\u001b[0m 31ms/step - accuracy: 0.5011 - loss: 0.7009 - val_accuracy: 0.5000 - val_loss: 1.5375\n",
            "Epoch 31/50\n",
            "\u001b[1m250/250\u001b[0m \u001b[32m━━━━━━━━━━━━━━━━━━━━\u001b[0m\u001b[37m\u001b[0m \u001b[1m10s\u001b[0m 29ms/step - accuracy: 0.5026 - loss: 0.7000 - val_accuracy: 0.5000 - val_loss: 1.5366\n",
            "Epoch 32/50\n",
            "\u001b[1m250/250\u001b[0m \u001b[32m━━━━━━━━━━━━━━━━━━━━\u001b[0m\u001b[37m\u001b[0m \u001b[1m10s\u001b[0m 26ms/step - accuracy: 0.4930 - loss: 0.6992 - val_accuracy: 0.5000 - val_loss: 1.5359\n",
            "Epoch 33/50\n",
            "\u001b[1m250/250\u001b[0m \u001b[32m━━━━━━━━━━━━━━━━━━━━\u001b[0m\u001b[37m\u001b[0m \u001b[1m11s\u001b[0m 31ms/step - accuracy: 0.5026 - loss: 0.6985 - val_accuracy: 0.5000 - val_loss: 1.5352\n",
            "Epoch 34/50\n",
            "\u001b[1m250/250\u001b[0m \u001b[32m━━━━━━━━━━━━━━━━━━━━\u001b[0m\u001b[37m\u001b[0m \u001b[1m10s\u001b[0m 28ms/step - accuracy: 0.4687 - loss: 0.6979 - val_accuracy: 0.5000 - val_loss: 1.5347\n",
            "Epoch 35/50\n",
            "\u001b[1m250/250\u001b[0m \u001b[32m━━━━━━━━━━━━━━━━━━━━\u001b[0m\u001b[37m\u001b[0m \u001b[1m10s\u001b[0m 26ms/step - accuracy: 0.5011 - loss: 0.6973 - val_accuracy: 0.5000 - val_loss: 1.5342\n",
            "Epoch 36/50\n",
            "\u001b[1m250/250\u001b[0m \u001b[32m━━━━━━━━━━━━━━━━━━━━\u001b[0m\u001b[37m\u001b[0m \u001b[1m11s\u001b[0m 26ms/step - accuracy: 0.4745 - loss: 0.6969 - val_accuracy: 0.5000 - val_loss: 1.5337\n",
            "Epoch 37/50\n",
            "\u001b[1m250/250\u001b[0m \u001b[32m━━━━━━━━━━━━━━━━━━━━\u001b[0m\u001b[37m\u001b[0m \u001b[1m11s\u001b[0m 31ms/step - accuracy: 0.5015 - loss: 0.6964 - val_accuracy: 0.5000 - val_loss: 1.5333\n",
            "Epoch 38/50\n",
            "\u001b[1m250/250\u001b[0m \u001b[32m━━━━━━━━━━━━━━━━━━━━\u001b[0m\u001b[37m\u001b[0m \u001b[1m9s\u001b[0m 25ms/step - accuracy: 0.4993 - loss: 0.6961 - val_accuracy: 0.5000 - val_loss: 1.5330\n",
            "Epoch 39/50\n",
            "\u001b[1m250/250\u001b[0m \u001b[32m━━━━━━━━━━━━━━━━━━━━\u001b[0m\u001b[37m\u001b[0m \u001b[1m10s\u001b[0m 27ms/step - accuracy: 0.4992 - loss: 0.6958 - val_accuracy: 0.5000 - val_loss: 1.5327\n",
            "Epoch 40/50\n",
            "\u001b[1m250/250\u001b[0m \u001b[32m━━━━━━━━━━━━━━━━━━━━\u001b[0m\u001b[37m\u001b[0m \u001b[1m12s\u001b[0m 37ms/step - accuracy: 0.5014 - loss: 0.6955 - val_accuracy: 0.5000 - val_loss: 1.5324\n",
            "Epoch 41/50\n",
            "\u001b[1m250/250\u001b[0m \u001b[32m━━━━━━━━━━━━━━━━━━━━\u001b[0m\u001b[37m\u001b[0m \u001b[1m9s\u001b[0m 24ms/step - accuracy: 0.5025 - loss: 0.6952 - val_accuracy: 0.5000 - val_loss: 1.5322\n",
            "Epoch 42/50\n",
            "\u001b[1m250/250\u001b[0m \u001b[32m━━━━━━━━━━━━━━━━━━━━\u001b[0m\u001b[37m\u001b[0m \u001b[1m11s\u001b[0m 26ms/step - accuracy: 0.4651 - loss: 0.6950 - val_accuracy: 0.5000 - val_loss: 1.5320\n",
            "Epoch 43/50\n",
            "\u001b[1m250/250\u001b[0m \u001b[32m━━━━━━━━━━━━━━━━━━━━\u001b[0m\u001b[37m\u001b[0m \u001b[1m11s\u001b[0m 32ms/step - accuracy: 0.4999 - loss: 0.6948 - val_accuracy: 0.5000 - val_loss: 1.5318\n",
            "Epoch 44/50\n",
            "\u001b[1m250/250\u001b[0m \u001b[32m━━━━━━━━━━━━━━━━━━━━\u001b[0m\u001b[37m\u001b[0m \u001b[1m19s\u001b[0m 24ms/step - accuracy: 0.4881 - loss: 0.6946 - val_accuracy: 0.5000 - val_loss: 1.5316\n",
            "Epoch 45/50\n",
            "\u001b[1m250/250\u001b[0m \u001b[32m━━━━━━━━━━━━━━━━━━━━\u001b[0m\u001b[37m\u001b[0m \u001b[1m11s\u001b[0m 30ms/step - accuracy: 0.4770 - loss: 0.6945 - val_accuracy: 0.5000 - val_loss: 1.5315\n",
            "Epoch 46/50\n",
            "\u001b[1m250/250\u001b[0m \u001b[32m━━━━━━━━━━━━━━━━━━━━\u001b[0m\u001b[37m\u001b[0m \u001b[1m19s\u001b[0m 26ms/step - accuracy: 0.4776 - loss: 0.6943 - val_accuracy: 0.5000 - val_loss: 1.5313\n",
            "Epoch 47/50\n",
            "\u001b[1m250/250\u001b[0m \u001b[32m━━━━━━━━━━━━━━━━━━━━\u001b[0m\u001b[37m\u001b[0m \u001b[1m11s\u001b[0m 25ms/step - accuracy: 0.5004 - loss: 0.6942 - val_accuracy: 0.5000 - val_loss: 1.5312\n",
            "Epoch 48/50\n",
            "\u001b[1m250/250\u001b[0m \u001b[32m━━━━━━━━━━━━━━━━━━━━\u001b[0m\u001b[37m\u001b[0m \u001b[1m11s\u001b[0m 29ms/step - accuracy: 0.4997 - loss: 0.6941 - val_accuracy: 0.5000 - val_loss: 1.5311\n",
            "Epoch 49/50\n",
            "\u001b[1m250/250\u001b[0m \u001b[32m━━━━━━━━━━━━━━━━━━━━\u001b[0m\u001b[37m\u001b[0m \u001b[1m19s\u001b[0m 26ms/step - accuracy: 0.4990 - loss: 0.6940 - val_accuracy: 0.5000 - val_loss: 1.5310\n",
            "Epoch 50/50\n",
            "\u001b[1m250/250\u001b[0m \u001b[32m━━━━━━━━━━━━━━━━━━━━\u001b[0m\u001b[37m\u001b[0m \u001b[1m11s\u001b[0m 30ms/step - accuracy: 0.5014 - loss: 0.6939 - val_accuracy: 0.5000 - val_loss: 1.5309\n"
          ]
        },
        {
          "output_type": "execute_result",
          "data": {
            "text/plain": [
              "<keras.src.callbacks.history.History at 0x7e94506dea70>"
            ]
          },
          "metadata": {},
          "execution_count": 29
        }
      ]
    },
    {
      "cell_type": "code",
      "source": [
        "cnn.history.history"
      ],
      "metadata": {
        "colab": {
          "base_uri": "https://localhost:8080/"
        },
        "id": "eRpchLU3ER9S",
        "outputId": "1901394f-0b67-4268-d64e-7548c350e8c0"
      },
      "execution_count": 30,
      "outputs": [
        {
          "output_type": "execute_result",
          "data": {
            "text/plain": [
              "{'accuracy': [0.4865350127220154,\n",
              "  0.49910232424736023,\n",
              "  0.5062836408615112,\n",
              "  0.4973070025444031,\n",
              "  0.5008976459503174,\n",
              "  0.5008976459503174,\n",
              "  0.5008976459503174,\n",
              "  0.5008976459503174,\n",
              "  0.5008976459503174,\n",
              "  0.5008976459503174,\n",
              "  0.5008976459503174,\n",
              "  0.5008976459503174,\n",
              "  0.5008976459503174,\n",
              "  0.44165170192718506,\n",
              "  0.49192100763320923,\n",
              "  0.5008976459503174,\n",
              "  0.5008976459503174,\n",
              "  0.5008976459503174,\n",
              "  0.5008976459503174,\n",
              "  0.5008976459503174,\n",
              "  0.5008976459503174,\n",
              "  0.5008976459503174,\n",
              "  0.49910232424736023,\n",
              "  0.48114901781082153,\n",
              "  0.4865350127220154,\n",
              "  0.4829443395137787,\n",
              "  0.5008976459503174,\n",
              "  0.5008976459503174,\n",
              "  0.5008976459503174,\n",
              "  0.5008976459503174,\n",
              "  0.5008976459503174,\n",
              "  0.49192100763320923,\n",
              "  0.5008976459503174,\n",
              "  0.4685816764831543,\n",
              "  0.5008976459503174,\n",
              "  0.47396767139434814,\n",
              "  0.5008976459503174,\n",
              "  0.5008976459503174,\n",
              "  0.5008976459503174,\n",
              "  0.5008976459503174,\n",
              "  0.5008976459503174,\n",
              "  0.46678635478019714,\n",
              "  0.49910232424736023,\n",
              "  0.48833033442497253,\n",
              "  0.47755834460258484,\n",
              "  0.4757630228996277,\n",
              "  0.5008976459503174,\n",
              "  0.5008976459503174,\n",
              "  0.5008976459503174,\n",
              "  0.5008976459503174],\n",
              " 'loss': [2.0649869441986084,\n",
              "  1.488075613975525,\n",
              "  1.268425703048706,\n",
              "  1.1557356119155884,\n",
              "  1.0727053880691528,\n",
              "  1.0097761154174805,\n",
              "  0.9566016793251038,\n",
              "  0.9128968119621277,\n",
              "  0.8777923583984375,\n",
              "  0.8476304411888123,\n",
              "  0.8236399292945862,\n",
              "  0.8029772043228149,\n",
              "  0.7859258651733398,\n",
              "  0.7716002464294434,\n",
              "  0.7596712708473206,\n",
              "  0.7496334910392761,\n",
              "  0.7413326501846313,\n",
              "  0.7344481945037842,\n",
              "  0.7285417914390564,\n",
              "  0.7236871123313904,\n",
              "  0.7194840908050537,\n",
              "  0.7159209847450256,\n",
              "  0.7129045128822327,\n",
              "  0.7103450298309326,\n",
              "  0.7080855965614319,\n",
              "  0.7062422037124634,\n",
              "  0.7046177387237549,\n",
              "  0.7031646966934204,\n",
              "  0.7020055055618286,\n",
              "  0.7008895874023438,\n",
              "  0.6999996304512024,\n",
              "  0.6991838812828064,\n",
              "  0.6985077857971191,\n",
              "  0.6978864669799805,\n",
              "  0.6973373889923096,\n",
              "  0.6968727111816406,\n",
              "  0.6964406371116638,\n",
              "  0.6960945725440979,\n",
              "  0.6957509517669678,\n",
              "  0.6954649090766907,\n",
              "  0.6952195763587952,\n",
              "  0.6950362920761108,\n",
              "  0.6948295831680298,\n",
              "  0.6946189999580383,\n",
              "  0.6944752931594849,\n",
              "  0.6943069100379944,\n",
              "  0.6941865682601929,\n",
              "  0.6940819621086121,\n",
              "  0.6939675211906433,\n",
              "  0.6938837766647339],\n",
              " 'val_accuracy': [0.5,\n",
              "  0.5,\n",
              "  0.5,\n",
              "  0.5,\n",
              "  0.5,\n",
              "  0.5,\n",
              "  0.5,\n",
              "  0.5,\n",
              "  0.5,\n",
              "  0.5,\n",
              "  0.5,\n",
              "  0.5,\n",
              "  0.5,\n",
              "  0.5,\n",
              "  0.5,\n",
              "  0.5,\n",
              "  0.5,\n",
              "  0.5,\n",
              "  0.5,\n",
              "  0.5,\n",
              "  0.5,\n",
              "  0.5,\n",
              "  0.5,\n",
              "  0.5,\n",
              "  0.5,\n",
              "  0.5,\n",
              "  0.5,\n",
              "  0.5,\n",
              "  0.5,\n",
              "  0.5,\n",
              "  0.5,\n",
              "  0.5,\n",
              "  0.5,\n",
              "  0.5,\n",
              "  0.5,\n",
              "  0.5,\n",
              "  0.5,\n",
              "  0.5,\n",
              "  0.5,\n",
              "  0.5,\n",
              "  0.5,\n",
              "  0.5,\n",
              "  0.5,\n",
              "  0.5,\n",
              "  0.5,\n",
              "  0.5,\n",
              "  0.5,\n",
              "  0.5,\n",
              "  0.5,\n",
              "  0.5],\n",
              " 'val_loss': [2.5004682540893555,\n",
              "  2.1787192821502686,\n",
              "  2.039170980453491,\n",
              "  1.9464800357818604,\n",
              "  1.8743222951889038,\n",
              "  1.8164185285568237,\n",
              "  1.7691367864608765,\n",
              "  1.730181336402893,\n",
              "  1.6979297399520874,\n",
              "  1.67115318775177,\n",
              "  1.6488817930221558,\n",
              "  1.6303402185440063,\n",
              "  1.61488676071167,\n",
              "  1.601992130279541,\n",
              "  1.5912199020385742,\n",
              "  1.582205891609192,\n",
              "  1.5746474266052246,\n",
              "  1.5682953596115112,\n",
              "  1.5629435777664185,\n",
              "  1.558422327041626,\n",
              "  1.5545916557312012,\n",
              "  1.5513370037078857,\n",
              "  1.548563003540039,\n",
              "  1.5461915731430054,\n",
              "  1.5441592931747437,\n",
              "  1.5424115657806396,\n",
              "  1.5409051179885864,\n",
              "  1.5396028757095337,\n",
              "  1.5384739637374878,\n",
              "  1.5374937057495117,\n",
              "  1.53663969039917,\n",
              "  1.5358943939208984,\n",
              "  1.5352420806884766,\n",
              "  1.5346709489822388,\n",
              "  1.5341688394546509,\n",
              "  1.5337276458740234,\n",
              "  1.533338189125061,\n",
              "  1.5329947471618652,\n",
              "  1.5326911211013794,\n",
              "  1.5324221849441528,\n",
              "  1.53218412399292,\n",
              "  1.5319730043411255,\n",
              "  1.5317853689193726,\n",
              "  1.5316178798675537,\n",
              "  1.531469464302063,\n",
              "  1.531337022781372,\n",
              "  1.5312188863754272,\n",
              "  1.5311137437820435,\n",
              "  1.5310198068618774,\n",
              "  1.5309358835220337]}"
            ]
          },
          "metadata": {},
          "execution_count": 30
        }
      ]
    },
    {
      "cell_type": "code",
      "source": [
        "train_accuracy = cnn.history.history['accuracy']\n",
        "test_accuracy = cnn.history.history['val_accuracy']"
      ],
      "metadata": {
        "id": "-bvWCo1HEb-S"
      },
      "execution_count": 31,
      "outputs": []
    },
    {
      "cell_type": "code",
      "source": [
        "train_accuracy"
      ],
      "metadata": {
        "colab": {
          "base_uri": "https://localhost:8080/"
        },
        "id": "OX2D3Qh1LcOn",
        "outputId": "3661a2f9-1c3f-4ea2-bb50-b3ab8a44178f"
      },
      "execution_count": 33,
      "outputs": [
        {
          "output_type": "execute_result",
          "data": {
            "text/plain": [
              "[0.4865350127220154,\n",
              " 0.49910232424736023,\n",
              " 0.5062836408615112,\n",
              " 0.4973070025444031,\n",
              " 0.5008976459503174,\n",
              " 0.5008976459503174,\n",
              " 0.5008976459503174,\n",
              " 0.5008976459503174,\n",
              " 0.5008976459503174,\n",
              " 0.5008976459503174,\n",
              " 0.5008976459503174,\n",
              " 0.5008976459503174,\n",
              " 0.5008976459503174,\n",
              " 0.44165170192718506,\n",
              " 0.49192100763320923,\n",
              " 0.5008976459503174,\n",
              " 0.5008976459503174,\n",
              " 0.5008976459503174,\n",
              " 0.5008976459503174,\n",
              " 0.5008976459503174,\n",
              " 0.5008976459503174,\n",
              " 0.5008976459503174,\n",
              " 0.49910232424736023,\n",
              " 0.48114901781082153,\n",
              " 0.4865350127220154,\n",
              " 0.4829443395137787,\n",
              " 0.5008976459503174,\n",
              " 0.5008976459503174,\n",
              " 0.5008976459503174,\n",
              " 0.5008976459503174,\n",
              " 0.5008976459503174,\n",
              " 0.49192100763320923,\n",
              " 0.5008976459503174,\n",
              " 0.4685816764831543,\n",
              " 0.5008976459503174,\n",
              " 0.47396767139434814,\n",
              " 0.5008976459503174,\n",
              " 0.5008976459503174,\n",
              " 0.5008976459503174,\n",
              " 0.5008976459503174,\n",
              " 0.5008976459503174,\n",
              " 0.46678635478019714,\n",
              " 0.49910232424736023,\n",
              " 0.48833033442497253,\n",
              " 0.47755834460258484,\n",
              " 0.4757630228996277,\n",
              " 0.5008976459503174,\n",
              " 0.5008976459503174,\n",
              " 0.5008976459503174,\n",
              " 0.5008976459503174]"
            ]
          },
          "metadata": {},
          "execution_count": 33
        }
      ]
    },
    {
      "cell_type": "code",
      "source": [
        "from keras.preprocessing import image\n",
        "import numpy as np"
      ],
      "metadata": {
        "id": "QHyxoZwxp85Y"
      },
      "execution_count": 35,
      "outputs": []
    },
    {
      "cell_type": "code",
      "source": [
        "img = image.load_img(\"/content/drive/MyDrive/Cnn data set/test/cats/cat_430.jpg\", target_size=(64,64))"
      ],
      "metadata": {
        "id": "PssYxP12p88M"
      },
      "execution_count": 36,
      "outputs": []
    },
    {
      "cell_type": "code",
      "source": [
        "img = image.img_to_array(img)"
      ],
      "metadata": {
        "id": "1xuXW3s61a8L"
      },
      "execution_count": 37,
      "outputs": []
    },
    {
      "cell_type": "code",
      "source": [
        "img = np.expand_dims(img , axis=0)"
      ],
      "metadata": {
        "id": "4FFGsYC_1bEQ"
      },
      "execution_count": 38,
      "outputs": []
    },
    {
      "cell_type": "code",
      "source": [
        "p = cnn.predict(img)\n",
        "p"
      ],
      "metadata": {
        "colab": {
          "base_uri": "https://localhost:8080/"
        },
        "id": "xVcoeBmE1bGh",
        "outputId": "1e11f938-a55b-463d-865a-cab95d96a33a"
      },
      "execution_count": 39,
      "outputs": [
        {
          "output_type": "stream",
          "name": "stdout",
          "text": [
            "\u001b[1m1/1\u001b[0m \u001b[32m━━━━━━━━━━━━━━━━━━━━\u001b[0m\u001b[37m\u001b[0m \u001b[1m0s\u001b[0m 196ms/step\n"
          ]
        },
        {
          "output_type": "execute_result",
          "data": {
            "text/plain": [
              "array([[0.49212846]], dtype=float32)"
            ]
          },
          "metadata": {},
          "execution_count": 39
        }
      ]
    },
    {
      "cell_type": "code",
      "source": [
        "if p[0][0]<0.5:\n",
        "  print(\"cat\")\n",
        "else:\n",
        "  print(\"dog\")"
      ],
      "metadata": {
        "colab": {
          "base_uri": "https://localhost:8080/"
        },
        "id": "hUji-ZXx2ev_",
        "outputId": "ac92d98d-93ac-4678-90c4-4d6bb73d048a"
      },
      "execution_count": 40,
      "outputs": [
        {
          "output_type": "stream",
          "name": "stdout",
          "text": [
            "cat\n"
          ]
        }
      ]
    },
    {
      "cell_type": "markdown",
      "source": [
        "yahan tak model ready hy agy khud sa kr rha"
      ],
      "metadata": {
        "id": "G5Y0Xxqk3Rdk"
      }
    }
  ]
}